{
 "cells": [
  {
   "cell_type": "code",
   "execution_count": 29,
   "id": "95ad5335",
   "metadata": {},
   "outputs": [],
   "source": [
    "library = {\n",
    "    \"The Hobbit\": \"Available\",\n",
    "    \"Slaughterhouse-Five\": \"Available\",\n",
    "    \"Moby Dick\": \"Available\",\n",
    "    \"The Catcher in the Rye\": \"Checked Out\",\n",
    "    \"Siddhartha\": \"Checked Out\",\n",
    "    \"Meditations\": \"Checked Out\",\n",
    "    \"Things Fall Apart\": \"Available\",\n",
    "    \"To Kill a Mockingbird\": \"Checked Out\",\n",
    "    \"Pride and Prejudice\": \"Available\",\n",
    "    \"Jane Eyre\": \"Checked Out\",\n",
    "    \"The Great Gatsby\": \"Available\",\n",
    "    \"War and Peace\": \"Checked Out\",\n",
    "    \"Crime and Punishment\": \"Available\",\n",
    "    \"Brave New World\": \"Available\",\n",
    "    \"A Tale of Two Cities\": \"Checked Out\",\n",
    "    \"Animal Farm\": \"Available\",\n",
    "    \"Dracula\": \"Checked Out\",\n",
    "    \"Frankenstein\": \"Available\",\n",
    "    \"The Road\": \"Available\",\n",
    "    \"The Alchemist\": \"Checked Out\"\n",
    "}"
   ]
  },
  {
   "cell_type": "code",
   "execution_count": 30,
   "id": "2cd25ba3",
   "metadata": {},
   "outputs": [],
   "source": [
    "letter_input = input(\"Please enter the first letter(s) of the book(s) you would like to search for, separated by spaces: \\n\").upper().split()\n",
    "\n",
    "status_input = input(\"Please enter the status you would like to check for (either 'Available', 'Checked Out', or 'All'): \\n\").lower()"
   ]
  },
  {
   "cell_type": "code",
   "execution_count": 31,
   "id": "07fcdb7d",
   "metadata": {},
   "outputs": [],
   "source": [
    "book_counter = 0\n",
    "\n",
    "book_letter_list = []\n",
    "\n",
    "final_book_list = []"
   ]
  },
  {
   "cell_type": "code",
   "execution_count": 32,
   "id": "1181eb42",
   "metadata": {},
   "outputs": [
    {
     "name": "stdout",
     "output_type": "stream",
     "text": [
      "The Hobbit: Available \n",
      "\n",
      "Things Fall Apart: Available \n",
      "\n",
      "The Great Gatsby: Available \n",
      "\n",
      "The Road: Available \n",
      "\n"
     ]
    }
   ],
   "source": [
    "for letter in letter_input:\n",
    "    for book, status in library.items():\n",
    "        if book.startswith(letter):\n",
    "            book_letter_list.append(book)\n",
    "        if book in book_letter_list and (status.lower() == status_input or status_input == 'all'):\n",
    "            final_book_list.append(book)\n",
    "            print(f\"{book}: {status} \\n\")\n",
    "            book_counter += 1"
   ]
  },
  {
   "cell_type": "code",
   "execution_count": 33,
   "id": "ce1ea195",
   "metadata": {},
   "outputs": [
    {
     "name": "stdout",
     "output_type": "stream",
     "text": [
      "Your total number of books is 4.\n"
     ]
    }
   ],
   "source": [
    "print(f\"Your total number of books is {book_counter}.\")"
   ]
  },
  {
   "cell_type": "code",
   "execution_count": null,
   "id": "6ea583fc",
   "metadata": {},
   "outputs": [
    {
     "name": "stdout",
     "output_type": "stream",
     "text": [
      "You added the vvitch with a status of available.\n"
     ]
    }
   ],
   "source": [
    "add_new_book_input_q = input(\"Would you like to add a new book? Y/N: \\n\").upper()\n",
    "\n",
    "if add_new_book_input_q == \"Y\":\n",
    "    add_new_book_input_t = input(\"Please enter the book's title: \\n\")\n",
    "    add_new_book_input_s = input(\"Please enter a status (Available or Checked Out): \\n\")\n",
    "    library[add_new_book_input_t] = add_new_book_input_s\n",
    "    print(f\"You added '{add_new_book_input_t}' with a status of {add_new_book_input_s}. \\n\")\n",
    "    print(library)\n",
    "else:\n",
    "    print(\"Thank you.\")\n"
   ]
  },
  {
   "cell_type": "code",
   "execution_count": 46,
   "id": "3e8b2b38",
   "metadata": {},
   "outputs": [
    {
     "name": "stdout",
     "output_type": "stream",
     "text": [
      "Book title does not match.\n"
     ]
    }
   ],
   "source": [
    "change_status_input_q = input(\"Would you like to change the status of a book? (Y/N) \\n\").upper()\n",
    "\n",
    "if change_status_input_q == \"Y\":\n",
    "    change_status_input_title = input(\"Which book would you like to change the status of? (enter title): \\n\")\n",
    "    if change_status_input_title == library.keys():\n",
    "        change_status_input_option = input(\"Change the status to Available or Checked Out?\").lower()\n",
    "        if change_status_input_option == (\"available\" or \"checked out\"):\n",
    "            library[change_status_input_title] = change_status_input_option\n",
    "            print(f\"You updated {change_status_input_title} to {change_status_input_option}. \\n\")\n",
    "        else:\n",
    "            print(\"Please enter a valid option:\")\n",
    "            change_status_input_option = input(\"Change the status to Available or Checked Out?\").lower()\n",
    "    else:\n",
    "        print(\"Book title does not match.\")\n",
    "else:\n",
    "    print(\"Thank you.\")\n",
    "\n"
   ]
  }
 ],
 "metadata": {
  "kernelspec": {
   "display_name": "Python 3",
   "language": "python",
   "name": "python3"
  },
  "language_info": {
   "codemirror_mode": {
    "name": "ipython",
    "version": 3
   },
   "file_extension": ".py",
   "mimetype": "text/x-python",
   "name": "python",
   "nbconvert_exporter": "python",
   "pygments_lexer": "ipython3",
   "version": "3.13.7"
  }
 },
 "nbformat": 4,
 "nbformat_minor": 5
}
